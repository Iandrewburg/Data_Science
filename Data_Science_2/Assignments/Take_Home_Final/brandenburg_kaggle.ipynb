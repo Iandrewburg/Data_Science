{
 "cells": [
  {
   "cell_type": "markdown",
   "id": "c3c920e6-3761-4d94-9558-ae995ffa39ac",
   "metadata": {},
   "source": [
    "# <center> Kaggle Competition Assignment <center> Ian Brandenburg (2304791) <ceneter> [GitHub Repo]()"
   ]
  },
  {
   "cell_type": "code",
   "execution_count": 1,
   "id": "847b689c-e3bc-40cd-8e8b-33ff6cff60ae",
   "metadata": {
    "tags": []
   },
   "outputs": [],
   "source": [
    "import pandas as pd"
   ]
  },
  {
   "cell_type": "code",
   "execution_count": null,
   "id": "5c2f31dc-a8d3-4c82-9765-39f5a4e4e757",
   "metadata": {},
   "outputs": [],
   "source": []
  }
 ],
 "metadata": {
  "kernelspec": {
   "display_name": "Python 3 (ipykernel)",
   "language": "python",
   "name": "python3"
  },
  "language_info": {
   "codemirror_mode": {
    "name": "ipython",
    "version": 3
   },
   "file_extension": ".py",
   "mimetype": "text/x-python",
   "name": "python",
   "nbconvert_exporter": "python",
   "pygments_lexer": "ipython3",
   "version": "3.11.4"
  }
 },
 "nbformat": 4,
 "nbformat_minor": 5
}
