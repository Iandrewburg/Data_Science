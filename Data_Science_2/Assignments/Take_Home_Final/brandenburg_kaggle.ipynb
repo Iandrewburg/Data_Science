{
 "cells": [
  {
   "cell_type": "markdown",
   "id": "c3c920e6-3761-4d94-9558-ae995ffa39ac",
   "metadata": {},
   "source": [
    "# <center> Kaggle Competition Assignment <center> Ian Brandenburg (2304791) <center> [GitHub Repo](https://github.com/Iandrewburg/Data_Science/tree/main/Data_Science_2/Assignments/Take_Home_Final)\n",
    "    \n",
    "    \n",
    "The Kaggle competition has been launched, please register using this [link](https://www.kaggle.com/t/f79b637ede074e70a233661b4614083c).\n",
    "\n",
    "You will find the training and test data in the data section of the competition, along with a description of the features. You will need to build models on the training data and make predictions on the test data and submit your solutions to Kaggle. You will also find a sample solution file in the data section that shows the format you will need to use for your own submissions.\n",
    "\n",
    "The deadline for Kaggle solutions is 8PM on 19 April. You will be graded primarily on the basis of your work and how clearly you explain your methods and results. Those in the top three in the competition will receive some extra points. I expect you to experiment with all the methods we have covered: linear models, random forest, gradient boosting, neural networks + parameter tuning, feature engineering.\n",
    "\n",
    "You will see the public score of your best model on the leaderboard. A private dataset will be used to evaluate the final performance of your model to avoid overfitting based on the leaderboard.\n",
    "\n",
    "You should also submit to Moodle the documentation (ipynb and pdf) of your work, including exploratory data analysis, data cleaning, parameter tuning and evaluation. Aim for concise explanations."
   ]
  },
  {
   "cell_type": "markdown",
   "id": "2156211d-6705-4669-9a65-835e9a896f55",
   "metadata": {},
   "source": [
    "### Import Libraries\n",
    "---"
   ]
  },
  {
   "cell_type": "code",
   "execution_count": 2,
   "id": "98f6fb47-2ef1-43d6-94ec-a6482b8525dc",
   "metadata": {
    "tags": []
   },
   "outputs": [],
   "source": [
    "import pandas as pd"
   ]
  },
  {
   "cell_type": "markdown",
   "id": "89e3e2f2-32fb-405c-909f-ed9b42a5b7fe",
   "metadata": {
    "tags": []
   },
   "source": [
    "# Data Wrangling\n",
    "---"
   ]
  },
  {
   "cell_type": "markdown",
   "id": "044cd425-2b1e-4019-91d4-976186fb8854",
   "metadata": {},
   "source": [
    "## Data Import\n",
    "---"
   ]
  },
  {
   "cell_type": "code",
   "execution_count": null,
   "id": "a30844dd-201d-416c-80dc-e0040f99a95a",
   "metadata": {},
   "outputs": [],
   "source": [
    "train_data = pd.read_csv()"
   ]
  },
  {
   "cell_type": "code",
   "execution_count": null,
   "id": "6ba17d9e-b6b6-41a6-a346-93c2b8572a1c",
   "metadata": {},
   "outputs": [],
   "source": []
  },
  {
   "cell_type": "code",
   "execution_count": null,
   "id": "20bbc1b2-429b-465f-9e29-d83e646b31cc",
   "metadata": {},
   "outputs": [],
   "source": []
  },
  {
   "cell_type": "code",
   "execution_count": null,
   "id": "b844074d-fd39-423e-9619-60e390e6c220",
   "metadata": {},
   "outputs": [],
   "source": []
  },
  {
   "cell_type": "markdown",
   "id": "ced915d4-89b8-49e9-a4a2-84e12f0aa288",
   "metadata": {},
   "source": [
    "## Exploratory Data Analysis\n",
    "---"
   ]
  },
  {
   "cell_type": "markdown",
   "id": "e7302628-cf92-4223-ae7e-6b52d11da855",
   "metadata": {},
   "source": [
    "## Data Cleaning\n",
    "---"
   ]
  },
  {
   "cell_type": "markdown",
   "id": "9fade411-c1c4-4598-8e61-0c8d2ea9a087",
   "metadata": {},
   "source": [
    "## Feature Engineering\n",
    "---"
   ]
  },
  {
   "cell_type": "markdown",
   "id": "5a5e9d75-7692-49aa-94ad-ee2f2509baef",
   "metadata": {
    "tags": []
   },
   "source": [
    "# Models\n",
    "---"
   ]
  },
  {
   "cell_type": "markdown",
   "id": "f10d2a2c-a674-41e6-bd84-e8e078e6320d",
   "metadata": {
    "tags": []
   },
   "source": [
    "## Linear Model\n",
    "---"
   ]
  },
  {
   "cell_type": "markdown",
   "id": "f69ba869-905d-4ac7-ac93-b2c52aff72b9",
   "metadata": {},
   "source": [
    "## Multivariate Linear Model\n",
    "---"
   ]
  },
  {
   "cell_type": "markdown",
   "id": "11d4cc9c-847e-4cf5-9489-42a1a836189a",
   "metadata": {},
   "source": [
    "## Lasso Model\n",
    "---"
   ]
  },
  {
   "cell_type": "markdown",
   "id": "a4a3f4f8-56ac-483b-8dbf-0bb64ae96f02",
   "metadata": {},
   "source": [
    "## Random Forest \n",
    "---"
   ]
  },
  {
   "cell_type": "markdown",
   "id": "46b239e1-c123-43da-be03-90ed65695d1c",
   "metadata": {},
   "source": [
    "## Gradient Boosted Random Forest\n",
    "---"
   ]
  },
  {
   "cell_type": "markdown",
   "id": "25a0b07d-bede-4715-9b44-63dad2582cd8",
   "metadata": {},
   "source": [
    "## Neural Network Models\n",
    "---"
   ]
  },
  {
   "cell_type": "code",
   "execution_count": null,
   "id": "bb6fc0fc-9c40-416e-83f0-c1af5392f17d",
   "metadata": {},
   "outputs": [],
   "source": []
  }
 ],
 "metadata": {
  "kernelspec": {
   "display_name": "Python 3 (ipykernel)",
   "language": "python",
   "name": "python3"
  },
  "language_info": {
   "codemirror_mode": {
    "name": "ipython",
    "version": 3
   },
   "file_extension": ".py",
   "mimetype": "text/x-python",
   "name": "python",
   "nbconvert_exporter": "python",
   "pygments_lexer": "ipython3",
   "version": "3.11.4"
  }
 },
 "nbformat": 4,
 "nbformat_minor": 5
}
