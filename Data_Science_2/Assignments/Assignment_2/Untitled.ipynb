{
 "cells": [
  {
   "cell_type": "markdown",
   "id": "06af7e10-2b04-4edb-87b0-3e4b35352933",
   "metadata": {},
   "source": [
    "\\documentclass{article}\n",
    "\\usepackage{tikz}\n",
    "\\usetikzlibrary{positioning, arrows.meta}\n",
    "\n",
    "\\begin{document}\n",
    "\\begin{tikzpicture}[>=Stealth, node distance=2cm and 3cm]\n",
    "    \\node (deposits) [align=center] {[Players' Deposits \\&\\\\ Service Fees]};\n",
    "    \\node (vfb) [right=of deposits, align=center] {[VFB]};\n",
    "    \\node (expenses) [above right=of vfb, align=center] {[Operational Expenses]};\n",
    "    \\node (interestloans) [below=of vfb, align=center] {[Interest on Loans]};\n",
    "    \\node (loansinvestments) [below=of interestloans, align=center] {[Loans \\& Investment]};\n",
    "    \\node (interestpayments) [left=of loansinvestments, align=center] {[Interest Payments]};\n",
    "    \\node (withdrawals) [below right=of loansinvestments, align=center] {[Withdrawals]};\n",
    "\n",
    "    \\draw[->] (deposits) -- (vfb);\n",
    "    \\draw[->] (vfb) |- (expenses);\n",
    "    \\draw[->] (interestloans) -- (vfb);\n",
    "    \\draw[->] (vfb) -- (interestloans);\n",
    "    \\draw[->] (vfb) -- (loansinvestments);\n",
    "    \\draw[->] (loansinvestments) -- (withdrawals);\n",
    "    \\draw[->] (loansinvestments) -- (interestpayments);\n",
    "\\end{tikzpicture}\n",
    "\\end{document}\n"
   ]
  },
  {
   "cell_type": "markdown",
   "id": "4e6a9831-7e4c-4689-b9f0-e436fd43d4d0",
   "metadata": {},
   "source": [
    "$$\n",
    "\\textbf{Flow Diagram Description:}\n",
    "\n",
    "\\begin{itemize}\n",
    "    \\item \\textbf{[Players' Deposits \\& Service Fees]} flows into \\textbf{[VFB]}\n",
    "    \\begin{itemize}\n",
    "        \\item From \\textbf{[VFB]}, funds are allocated to \\textbf{[Operational Expenses]}\n",
    "        \\item \\textbf{[VFB]} also receives \\textbf{[Interest on Loans]} as an inflow\n",
    "        \\item Funds from \\textbf{[VFB]} are used for \\textbf{[Loans \\& Investment]}\n",
    "        \\begin{itemize}\n",
    "            \\item Which leads to \\textbf{[Interest Payments]} and \\textbf{[Withdrawals]} as outflows\n",
    "        \\end{itemize}\n",
    "    \\end{itemize}\n",
    "\\end{itemize}\n",
    "$$"
   ]
  },
  {
   "cell_type": "markdown",
   "id": "694af368-93c9-4ab7-bff1-f2920f8bf78e",
   "metadata": {},
   "source": [
    "$$\n",
    "\\begin{array}{cccc}\n",
    " & \\text{\\textbf{[Players' Deposits \\& Service Fees]}} & \\rightarrow & \\text{\\textbf{[VFB]}} \\\\\n",
    " & \\downarrow &  & \\searrow \\quad \\swarrow \\\\\n",
    " & \\text{\\textbf{[Interest Payments]}} &  & \\text{\\textbf{[Operational Expenses]}} \\\\\n",
    " & \\uparrow &  &  \\\\\n",
    " & \\text{\\textbf{[Loans \\& Investment]}} & \\leftarrow & \\text{\\textbf{[Interest on Loans]}} \\\\\n",
    "\\end{array}\n",
    "$$\n"
   ]
  },
  {
   "cell_type": "code",
   "execution_count": null,
   "id": "93409a89-9513-42e9-89d1-668535a5c849",
   "metadata": {},
   "outputs": [],
   "source": []
  }
 ],
 "metadata": {
  "kernelspec": {
   "display_name": "Python 3 (ipykernel)",
   "language": "python",
   "name": "python3"
  },
  "language_info": {
   "codemirror_mode": {
    "name": "ipython",
    "version": 3
   },
   "file_extension": ".py",
   "mimetype": "text/x-python",
   "name": "python",
   "nbconvert_exporter": "python",
   "pygments_lexer": "ipython3",
   "version": "3.11.4"
  }
 },
 "nbformat": 4,
 "nbformat_minor": 5
}
